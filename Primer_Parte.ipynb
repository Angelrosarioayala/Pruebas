{
 "cells": [
  {
   "cell_type": "markdown",
   "metadata": {
    "id": "QE8HQie2F6a_"
   },
   "source": [
    "## **Import Libraries**"
   ]
  },
  {
   "cell_type": "code",
   "execution_count": 1,
   "metadata": {
    "id": "-x6qaLq-Ear2"
   },
   "outputs": [],
   "source": [
    "%matplotlib inline\n",
    "import pandas as pd\n",
    "import numpy as np\n",
    "import matplotlib.pyplot as plt\n",
    "import seaborn as sns\n",
    "#import geopandas as gpd\n",
    "\n",
    "sns.set_palette(\"Set2\")\n",
    "sns.set_style(\"ticks\")"
   ]
  },
  {
   "cell_type": "markdown",
   "metadata": {
    "id": "zd03pGirF9Gr"
   },
   "source": [
    "## **Import Data**"
   ]
  },
  {
   "cell_type": "code",
   "execution_count": 2,
   "metadata": {
    "id": "-TwtxZUTEg8h"
   },
   "outputs": [],
   "source": [
    "crimes = pd.read_csv(\"https://github.com/fescobar96/Crime-Prediction-in-San-Francisco/raw/master/Data/train.zip\")"
   ]
  },
  {
   "cell_type": "code",
   "execution_count": 3,
   "metadata": {
    "id": "gmsK5kKSLqyf"
   },
   "outputs": [],
   "source": [
    "weather = pd.read_csv(\"https://raw.githubusercontent.com/fescobar96/Crime-Prediction-in-San-Francisco/master/Data/sf_weather.csv\")"
   ]
  },
  {
   "cell_type": "code",
   "execution_count": 4,
   "metadata": {
    "id": "-3909xJCFOEl"
   },
   "outputs": [],
   "source": [
    "football = pd.read_csv(\"https://raw.githubusercontent.com/fescobar96/Crime-Prediction-in-San-Francisco/master/Data/49schedule.csv\")"
   ]
  },
  {
   "cell_type": "markdown",
   "metadata": {
    "id": "cZet8a7jLNXx"
   },
   "source": [
    "## **Data Preprocessing - San Francisco Crimes**"
   ]
  },
  {
   "cell_type": "code",
   "execution_count": 5,
   "metadata": {
    "colab": {
     "base_uri": "https://localhost:8080/",
     "height": 328
    },
    "id": "pUBYW8TzWxqw",
    "outputId": "35c59645-d7a8-4dbb-f848-ae47c4c9e2a0"
   },
   "outputs": [
    {
     "data": {
      "text/html": [
       "<div>\n",
       "<style scoped>\n",
       "    .dataframe tbody tr th:only-of-type {\n",
       "        vertical-align: middle;\n",
       "    }\n",
       "\n",
       "    .dataframe tbody tr th {\n",
       "        vertical-align: top;\n",
       "    }\n",
       "\n",
       "    .dataframe thead th {\n",
       "        text-align: right;\n",
       "    }\n",
       "</style>\n",
       "<table border=\"1\" class=\"dataframe\">\n",
       "  <thead>\n",
       "    <tr style=\"text-align: right;\">\n",
       "      <th></th>\n",
       "      <th>Missing Values %</th>\n",
       "    </tr>\n",
       "  </thead>\n",
       "  <tbody>\n",
       "    <tr>\n",
       "      <th>Dates</th>\n",
       "      <td>0.0</td>\n",
       "    </tr>\n",
       "    <tr>\n",
       "      <th>Category</th>\n",
       "      <td>0.0</td>\n",
       "    </tr>\n",
       "    <tr>\n",
       "      <th>Descript</th>\n",
       "      <td>0.0</td>\n",
       "    </tr>\n",
       "    <tr>\n",
       "      <th>DayOfWeek</th>\n",
       "      <td>0.0</td>\n",
       "    </tr>\n",
       "    <tr>\n",
       "      <th>PdDistrict</th>\n",
       "      <td>0.0</td>\n",
       "    </tr>\n",
       "    <tr>\n",
       "      <th>Resolution</th>\n",
       "      <td>0.0</td>\n",
       "    </tr>\n",
       "    <tr>\n",
       "      <th>Address</th>\n",
       "      <td>0.0</td>\n",
       "    </tr>\n",
       "    <tr>\n",
       "      <th>X</th>\n",
       "      <td>0.0</td>\n",
       "    </tr>\n",
       "    <tr>\n",
       "      <th>Y</th>\n",
       "      <td>0.0</td>\n",
       "    </tr>\n",
       "  </tbody>\n",
       "</table>\n",
       "</div>"
      ],
      "text/plain": [
       "            Missing Values %\n",
       "Dates                    0.0\n",
       "Category                 0.0\n",
       "Descript                 0.0\n",
       "DayOfWeek                0.0\n",
       "PdDistrict               0.0\n",
       "Resolution               0.0\n",
       "Address                  0.0\n",
       "X                        0.0\n",
       "Y                        0.0"
      ]
     },
     "execution_count": 5,
     "metadata": {},
     "output_type": "execute_result"
    }
   ],
   "source": [
    "crimes_missing = pd.DataFrame(crimes.isnull().mean()*100, columns=[\"Missing Values %\"])\n",
    "crimes_missing"
   ]
  },
  {
   "cell_type": "code",
   "execution_count": 6,
   "metadata": {
    "colab": {
     "base_uri": "https://localhost:8080/",
     "height": 620
    },
    "id": "W1W4XOnJMIw7",
    "outputId": "535cca5a-7943-417f-f37a-e79012e6d5b0"
   },
   "outputs": [
    {
     "data": {
      "text/html": [
       "<div>\n",
       "<style scoped>\n",
       "    .dataframe tbody tr th:only-of-type {\n",
       "        vertical-align: middle;\n",
       "    }\n",
       "\n",
       "    .dataframe tbody tr th {\n",
       "        vertical-align: top;\n",
       "    }\n",
       "\n",
       "    .dataframe thead th {\n",
       "        text-align: right;\n",
       "    }\n",
       "</style>\n",
       "<table border=\"1\" class=\"dataframe\">\n",
       "  <thead>\n",
       "    <tr style=\"text-align: right;\">\n",
       "      <th></th>\n",
       "      <th>Category</th>\n",
       "      <th>Descript</th>\n",
       "      <th>DayOfWeek</th>\n",
       "      <th>PdDistrict</th>\n",
       "      <th>Resolution</th>\n",
       "      <th>Address</th>\n",
       "      <th>X</th>\n",
       "      <th>Y</th>\n",
       "    </tr>\n",
       "    <tr>\n",
       "      <th>Dates</th>\n",
       "      <th></th>\n",
       "      <th></th>\n",
       "      <th></th>\n",
       "      <th></th>\n",
       "      <th></th>\n",
       "      <th></th>\n",
       "      <th></th>\n",
       "      <th></th>\n",
       "    </tr>\n",
       "  </thead>\n",
       "  <tbody>\n",
       "    <tr>\n",
       "      <th>2015-05-13 23:53:00</th>\n",
       "      <td>WARRANTS</td>\n",
       "      <td>WARRANT ARREST</td>\n",
       "      <td>Wednesday</td>\n",
       "      <td>NORTHERN</td>\n",
       "      <td>ARREST, BOOKED</td>\n",
       "      <td>OAK ST / LAGUNA ST</td>\n",
       "      <td>-122.425892</td>\n",
       "      <td>37.774599</td>\n",
       "    </tr>\n",
       "    <tr>\n",
       "      <th>2015-05-13 23:53:00</th>\n",
       "      <td>OTHER OFFENSES</td>\n",
       "      <td>TRAFFIC VIOLATION ARREST</td>\n",
       "      <td>Wednesday</td>\n",
       "      <td>NORTHERN</td>\n",
       "      <td>ARREST, BOOKED</td>\n",
       "      <td>OAK ST / LAGUNA ST</td>\n",
       "      <td>-122.425892</td>\n",
       "      <td>37.774599</td>\n",
       "    </tr>\n",
       "    <tr>\n",
       "      <th>2015-05-13 23:33:00</th>\n",
       "      <td>OTHER OFFENSES</td>\n",
       "      <td>TRAFFIC VIOLATION ARREST</td>\n",
       "      <td>Wednesday</td>\n",
       "      <td>NORTHERN</td>\n",
       "      <td>ARREST, BOOKED</td>\n",
       "      <td>VANNESS AV / GREENWICH ST</td>\n",
       "      <td>-122.424363</td>\n",
       "      <td>37.800414</td>\n",
       "    </tr>\n",
       "    <tr>\n",
       "      <th>2015-05-13 23:30:00</th>\n",
       "      <td>LARCENY/THEFT</td>\n",
       "      <td>GRAND THEFT FROM LOCKED AUTO</td>\n",
       "      <td>Wednesday</td>\n",
       "      <td>NORTHERN</td>\n",
       "      <td>NONE</td>\n",
       "      <td>1500 Block of LOMBARD ST</td>\n",
       "      <td>-122.426995</td>\n",
       "      <td>37.800873</td>\n",
       "    </tr>\n",
       "    <tr>\n",
       "      <th>2015-05-13 23:30:00</th>\n",
       "      <td>LARCENY/THEFT</td>\n",
       "      <td>GRAND THEFT FROM LOCKED AUTO</td>\n",
       "      <td>Wednesday</td>\n",
       "      <td>PARK</td>\n",
       "      <td>NONE</td>\n",
       "      <td>100 Block of BRODERICK ST</td>\n",
       "      <td>-122.438738</td>\n",
       "      <td>37.771541</td>\n",
       "    </tr>\n",
       "    <tr>\n",
       "      <th>...</th>\n",
       "      <td>...</td>\n",
       "      <td>...</td>\n",
       "      <td>...</td>\n",
       "      <td>...</td>\n",
       "      <td>...</td>\n",
       "      <td>...</td>\n",
       "      <td>...</td>\n",
       "      <td>...</td>\n",
       "    </tr>\n",
       "    <tr>\n",
       "      <th>2003-01-06 00:15:00</th>\n",
       "      <td>ROBBERY</td>\n",
       "      <td>ROBBERY ON THE STREET WITH A GUN</td>\n",
       "      <td>Monday</td>\n",
       "      <td>TARAVAL</td>\n",
       "      <td>NONE</td>\n",
       "      <td>FARALLONES ST / CAPITOL AV</td>\n",
       "      <td>-122.459033</td>\n",
       "      <td>37.714056</td>\n",
       "    </tr>\n",
       "    <tr>\n",
       "      <th>2003-01-06 00:01:00</th>\n",
       "      <td>LARCENY/THEFT</td>\n",
       "      <td>GRAND THEFT FROM LOCKED AUTO</td>\n",
       "      <td>Monday</td>\n",
       "      <td>INGLESIDE</td>\n",
       "      <td>NONE</td>\n",
       "      <td>600 Block of EDNA ST</td>\n",
       "      <td>-122.447364</td>\n",
       "      <td>37.731948</td>\n",
       "    </tr>\n",
       "    <tr>\n",
       "      <th>2003-01-06 00:01:00</th>\n",
       "      <td>LARCENY/THEFT</td>\n",
       "      <td>GRAND THEFT FROM LOCKED AUTO</td>\n",
       "      <td>Monday</td>\n",
       "      <td>SOUTHERN</td>\n",
       "      <td>NONE</td>\n",
       "      <td>5TH ST / FOLSOM ST</td>\n",
       "      <td>-122.403390</td>\n",
       "      <td>37.780266</td>\n",
       "    </tr>\n",
       "    <tr>\n",
       "      <th>2003-01-06 00:01:00</th>\n",
       "      <td>VANDALISM</td>\n",
       "      <td>MALICIOUS MISCHIEF, VANDALISM OF VEHICLES</td>\n",
       "      <td>Monday</td>\n",
       "      <td>SOUTHERN</td>\n",
       "      <td>NONE</td>\n",
       "      <td>TOWNSEND ST / 2ND ST</td>\n",
       "      <td>-122.390531</td>\n",
       "      <td>37.780607</td>\n",
       "    </tr>\n",
       "    <tr>\n",
       "      <th>2003-01-06 00:01:00</th>\n",
       "      <td>FORGERY/COUNTERFEITING</td>\n",
       "      <td>CHECKS, FORGERY (FELONY)</td>\n",
       "      <td>Monday</td>\n",
       "      <td>BAYVIEW</td>\n",
       "      <td>NONE</td>\n",
       "      <td>1800 Block of NEWCOMB AV</td>\n",
       "      <td>-122.394926</td>\n",
       "      <td>37.738212</td>\n",
       "    </tr>\n",
       "  </tbody>\n",
       "</table>\n",
       "<p>878049 rows × 8 columns</p>\n",
       "</div>"
      ],
      "text/plain": [
       "                                   Category  \\\n",
       "Dates                                         \n",
       "2015-05-13 23:53:00                WARRANTS   \n",
       "2015-05-13 23:53:00          OTHER OFFENSES   \n",
       "2015-05-13 23:33:00          OTHER OFFENSES   \n",
       "2015-05-13 23:30:00           LARCENY/THEFT   \n",
       "2015-05-13 23:30:00           LARCENY/THEFT   \n",
       "...                                     ...   \n",
       "2003-01-06 00:15:00                 ROBBERY   \n",
       "2003-01-06 00:01:00           LARCENY/THEFT   \n",
       "2003-01-06 00:01:00           LARCENY/THEFT   \n",
       "2003-01-06 00:01:00               VANDALISM   \n",
       "2003-01-06 00:01:00  FORGERY/COUNTERFEITING   \n",
       "\n",
       "                                                      Descript  DayOfWeek  \\\n",
       "Dates                                                                       \n",
       "2015-05-13 23:53:00                             WARRANT ARREST  Wednesday   \n",
       "2015-05-13 23:53:00                   TRAFFIC VIOLATION ARREST  Wednesday   \n",
       "2015-05-13 23:33:00                   TRAFFIC VIOLATION ARREST  Wednesday   \n",
       "2015-05-13 23:30:00               GRAND THEFT FROM LOCKED AUTO  Wednesday   \n",
       "2015-05-13 23:30:00               GRAND THEFT FROM LOCKED AUTO  Wednesday   \n",
       "...                                                        ...        ...   \n",
       "2003-01-06 00:15:00           ROBBERY ON THE STREET WITH A GUN     Monday   \n",
       "2003-01-06 00:01:00               GRAND THEFT FROM LOCKED AUTO     Monday   \n",
       "2003-01-06 00:01:00               GRAND THEFT FROM LOCKED AUTO     Monday   \n",
       "2003-01-06 00:01:00  MALICIOUS MISCHIEF, VANDALISM OF VEHICLES     Monday   \n",
       "2003-01-06 00:01:00                   CHECKS, FORGERY (FELONY)     Monday   \n",
       "\n",
       "                    PdDistrict      Resolution                     Address  \\\n",
       "Dates                                                                        \n",
       "2015-05-13 23:53:00   NORTHERN  ARREST, BOOKED          OAK ST / LAGUNA ST   \n",
       "2015-05-13 23:53:00   NORTHERN  ARREST, BOOKED          OAK ST / LAGUNA ST   \n",
       "2015-05-13 23:33:00   NORTHERN  ARREST, BOOKED   VANNESS AV / GREENWICH ST   \n",
       "2015-05-13 23:30:00   NORTHERN            NONE    1500 Block of LOMBARD ST   \n",
       "2015-05-13 23:30:00       PARK            NONE   100 Block of BRODERICK ST   \n",
       "...                        ...             ...                         ...   \n",
       "2003-01-06 00:15:00    TARAVAL            NONE  FARALLONES ST / CAPITOL AV   \n",
       "2003-01-06 00:01:00  INGLESIDE            NONE        600 Block of EDNA ST   \n",
       "2003-01-06 00:01:00   SOUTHERN            NONE          5TH ST / FOLSOM ST   \n",
       "2003-01-06 00:01:00   SOUTHERN            NONE        TOWNSEND ST / 2ND ST   \n",
       "2003-01-06 00:01:00    BAYVIEW            NONE    1800 Block of NEWCOMB AV   \n",
       "\n",
       "                              X          Y  \n",
       "Dates                                       \n",
       "2015-05-13 23:53:00 -122.425892  37.774599  \n",
       "2015-05-13 23:53:00 -122.425892  37.774599  \n",
       "2015-05-13 23:33:00 -122.424363  37.800414  \n",
       "2015-05-13 23:30:00 -122.426995  37.800873  \n",
       "2015-05-13 23:30:00 -122.438738  37.771541  \n",
       "...                         ...        ...  \n",
       "2003-01-06 00:15:00 -122.459033  37.714056  \n",
       "2003-01-06 00:01:00 -122.447364  37.731948  \n",
       "2003-01-06 00:01:00 -122.403390  37.780266  \n",
       "2003-01-06 00:01:00 -122.390531  37.780607  \n",
       "2003-01-06 00:01:00 -122.394926  37.738212  \n",
       "\n",
       "[878049 rows x 8 columns]"
      ]
     },
     "execution_count": 6,
     "metadata": {},
     "output_type": "execute_result"
    }
   ],
   "source": [
    "crimes_original = crimes.copy()\n",
    "crimes_original[\"Dates\"] = pd.to_datetime(crimes[\"Dates\"])\n",
    "crimes_original.set_index(keys=crimes_original[\"Dates\"], inplace=True)\n",
    "crimes_original.drop(columns=[\"Dates\"], inplace=True)\n",
    "crimes_original"
   ]
  },
  {
   "cell_type": "code",
   "execution_count": 6,
   "metadata": {
    "id": "HDzAaYYvGPtT"
   },
   "outputs": [],
   "source": [
    "crimes.drop(columns=[\"Category\", \"Descript\", \"Resolution\", \"Address\", \"X\", \"Y\"], inplace=True)"
   ]
  },
  {
   "cell_type": "code",
   "execution_count": 7,
   "metadata": {
    "id": "LNKWlrFabGyH"
   },
   "outputs": [],
   "source": [
    "crimes[\"Dates\"] = pd.to_datetime(crimes[\"Dates\"]).dt.date"
   ]
  },
  {
   "cell_type": "code",
   "execution_count": 8,
   "metadata": {
    "colab": {
     "base_uri": "https://localhost:8080/",
     "height": 187
    },
    "id": "hPq3d1W4qLMT",
    "outputId": "7b3ea736-6fb1-4442-b7eb-18bb8745c2cf"
   },
   "outputs": [
    {
     "name": "stdout",
     "output_type": "stream",
     "text": [
      "<class 'pandas.core.frame.DataFrame'>\n",
      "RangeIndex: 878049 entries, 0 to 878048\n",
      "Data columns (total 3 columns):\n",
      " #   Column      Non-Null Count   Dtype \n",
      "---  ------      --------------   ----- \n",
      " 0   Dates       878049 non-null  object\n",
      " 1   DayOfWeek   878049 non-null  object\n",
      " 2   PdDistrict  878049 non-null  object\n",
      "dtypes: object(3)\n",
      "memory usage: 20.1+ MB\n"
     ]
    }
   ],
   "source": [
    "crimes.info()"
   ]
  },
  {
   "cell_type": "code",
   "execution_count": 9,
   "metadata": {
    "colab": {
     "base_uri": "https://localhost:8080/",
     "height": 204
    },
    "id": "Gb1dkpTUGLFi",
    "outputId": "5f07b555-3d4c-46aa-f8eb-d1b1641b09e8"
   },
   "outputs": [
    {
     "data": {
      "text/html": [
       "<div>\n",
       "<style scoped>\n",
       "    .dataframe tbody tr th:only-of-type {\n",
       "        vertical-align: middle;\n",
       "    }\n",
       "\n",
       "    .dataframe tbody tr th {\n",
       "        vertical-align: top;\n",
       "    }\n",
       "\n",
       "    .dataframe thead th {\n",
       "        text-align: right;\n",
       "    }\n",
       "</style>\n",
       "<table border=\"1\" class=\"dataframe\">\n",
       "  <thead>\n",
       "    <tr style=\"text-align: right;\">\n",
       "      <th></th>\n",
       "      <th>Dates</th>\n",
       "      <th>DayOfWeek</th>\n",
       "      <th>PdDistrict</th>\n",
       "    </tr>\n",
       "  </thead>\n",
       "  <tbody>\n",
       "    <tr>\n",
       "      <th>0</th>\n",
       "      <td>2015-05-13</td>\n",
       "      <td>Wednesday</td>\n",
       "      <td>NORTHERN</td>\n",
       "    </tr>\n",
       "    <tr>\n",
       "      <th>1</th>\n",
       "      <td>2015-05-13</td>\n",
       "      <td>Wednesday</td>\n",
       "      <td>NORTHERN</td>\n",
       "    </tr>\n",
       "    <tr>\n",
       "      <th>2</th>\n",
       "      <td>2015-05-13</td>\n",
       "      <td>Wednesday</td>\n",
       "      <td>NORTHERN</td>\n",
       "    </tr>\n",
       "    <tr>\n",
       "      <th>3</th>\n",
       "      <td>2015-05-13</td>\n",
       "      <td>Wednesday</td>\n",
       "      <td>NORTHERN</td>\n",
       "    </tr>\n",
       "    <tr>\n",
       "      <th>4</th>\n",
       "      <td>2015-05-13</td>\n",
       "      <td>Wednesday</td>\n",
       "      <td>PARK</td>\n",
       "    </tr>\n",
       "  </tbody>\n",
       "</table>\n",
       "</div>"
      ],
      "text/plain": [
       "        Dates  DayOfWeek PdDistrict\n",
       "0  2015-05-13  Wednesday   NORTHERN\n",
       "1  2015-05-13  Wednesday   NORTHERN\n",
       "2  2015-05-13  Wednesday   NORTHERN\n",
       "3  2015-05-13  Wednesday   NORTHERN\n",
       "4  2015-05-13  Wednesday       PARK"
      ]
     },
     "execution_count": 9,
     "metadata": {},
     "output_type": "execute_result"
    }
   ],
   "source": [
    "crimes.head()"
   ]
  },
  {
   "cell_type": "markdown",
   "metadata": {
    "id": "RkUUOXX4MBXT"
   },
   "source": [
    "## **Data Preprocessing - Weather**"
   ]
  },
  {
   "cell_type": "code",
   "execution_count": 10,
   "metadata": {
    "colab": {
     "base_uri": "https://localhost:8080/",
     "height": 235
    },
    "id": "Mp5jFjaeWtJw",
    "outputId": "3af791c7-4fd7-4b34-99d8-8ccc147f66dd"
   },
   "outputs": [
    {
     "data": {
      "text/html": [
       "<div>\n",
       "<style scoped>\n",
       "    .dataframe tbody tr th:only-of-type {\n",
       "        vertical-align: middle;\n",
       "    }\n",
       "\n",
       "    .dataframe tbody tr th {\n",
       "        vertical-align: top;\n",
       "    }\n",
       "\n",
       "    .dataframe thead th {\n",
       "        text-align: right;\n",
       "    }\n",
       "</style>\n",
       "<table border=\"1\" class=\"dataframe\">\n",
       "  <thead>\n",
       "    <tr style=\"text-align: right;\">\n",
       "      <th></th>\n",
       "      <th>Missing Values %</th>\n",
       "    </tr>\n",
       "  </thead>\n",
       "  <tbody>\n",
       "    <tr>\n",
       "      <th>date</th>\n",
       "      <td>0.0</td>\n",
       "    </tr>\n",
       "    <tr>\n",
       "      <th>avg_temp (celsius)</th>\n",
       "      <td>0.0</td>\n",
       "    </tr>\n",
       "    <tr>\n",
       "      <th>precipitation (mm)</th>\n",
       "      <td>0.0</td>\n",
       "    </tr>\n",
       "    <tr>\n",
       "      <th>wind_speed (km/h)</th>\n",
       "      <td>0.0</td>\n",
       "    </tr>\n",
       "    <tr>\n",
       "      <th>visibility (km)</th>\n",
       "      <td>0.0</td>\n",
       "    </tr>\n",
       "    <tr>\n",
       "      <th>moon_illumination, %</th>\n",
       "      <td>0.0</td>\n",
       "    </tr>\n",
       "  </tbody>\n",
       "</table>\n",
       "</div>"
      ],
      "text/plain": [
       "                      Missing Values %\n",
       "date                               0.0\n",
       "avg_temp (celsius)                 0.0\n",
       "precipitation (mm)                 0.0\n",
       "wind_speed (km/h)                  0.0\n",
       "visibility (km)                    0.0\n",
       "moon_illumination, %               0.0"
      ]
     },
     "execution_count": 10,
     "metadata": {},
     "output_type": "execute_result"
    }
   ],
   "source": [
    "weather_missing = pd.DataFrame(weather.isnull().mean()*100, columns=[\"Missing Values %\"])\n",
    "weather_missing"
   ]
  },
  {
   "cell_type": "code",
   "execution_count": 11,
   "metadata": {
    "colab": {
     "base_uri": "https://localhost:8080/",
     "height": 419
    },
    "id": "x0ETfXvnSVFJ",
    "outputId": "37319d92-c5ac-45ce-a042-750c255fe8f5"
   },
   "outputs": [
    {
     "data": {
      "text/html": [
       "<div>\n",
       "<style scoped>\n",
       "    .dataframe tbody tr th:only-of-type {\n",
       "        vertical-align: middle;\n",
       "    }\n",
       "\n",
       "    .dataframe tbody tr th {\n",
       "        vertical-align: top;\n",
       "    }\n",
       "\n",
       "    .dataframe thead th {\n",
       "        text-align: right;\n",
       "    }\n",
       "</style>\n",
       "<table border=\"1\" class=\"dataframe\">\n",
       "  <thead>\n",
       "    <tr style=\"text-align: right;\">\n",
       "      <th></th>\n",
       "      <th>date</th>\n",
       "      <th>avg_temp (celsius)</th>\n",
       "      <th>precipitation (mm)</th>\n",
       "      <th>wind_speed (km/h)</th>\n",
       "      <th>visibility (km)</th>\n",
       "      <th>moon_illumination, %</th>\n",
       "      <th>Dates</th>\n",
       "    </tr>\n",
       "  </thead>\n",
       "  <tbody>\n",
       "    <tr>\n",
       "      <th>0</th>\n",
       "      <td>2003-01-01</td>\n",
       "      <td>9</td>\n",
       "      <td>0.00</td>\n",
       "      <td>3</td>\n",
       "      <td>15.0</td>\n",
       "      <td>Waning Crescent, 1</td>\n",
       "      <td>2003-01-01</td>\n",
       "    </tr>\n",
       "    <tr>\n",
       "      <th>1</th>\n",
       "      <td>2003-01-02</td>\n",
       "      <td>10</td>\n",
       "      <td>0.00</td>\n",
       "      <td>5</td>\n",
       "      <td>15.0</td>\n",
       "      <td>Waning Crescent, 0</td>\n",
       "      <td>2003-01-02</td>\n",
       "    </tr>\n",
       "    <tr>\n",
       "      <th>2</th>\n",
       "      <td>2003-01-03</td>\n",
       "      <td>10</td>\n",
       "      <td>0.00</td>\n",
       "      <td>5</td>\n",
       "      <td>15.0</td>\n",
       "      <td>New Moon, 1</td>\n",
       "      <td>2003-01-03</td>\n",
       "    </tr>\n",
       "    <tr>\n",
       "      <th>3</th>\n",
       "      <td>2003-01-04</td>\n",
       "      <td>11</td>\n",
       "      <td>0.00</td>\n",
       "      <td>5</td>\n",
       "      <td>15.0</td>\n",
       "      <td>Waxing Crescent, 5</td>\n",
       "      <td>2003-01-04</td>\n",
       "    </tr>\n",
       "    <tr>\n",
       "      <th>4</th>\n",
       "      <td>2003-01-05</td>\n",
       "      <td>11</td>\n",
       "      <td>0.25</td>\n",
       "      <td>5</td>\n",
       "      <td>6.0</td>\n",
       "      <td>Waxing Crescent, 10</td>\n",
       "      <td>2003-01-05</td>\n",
       "    </tr>\n",
       "    <tr>\n",
       "      <th>...</th>\n",
       "      <td>...</td>\n",
       "      <td>...</td>\n",
       "      <td>...</td>\n",
       "      <td>...</td>\n",
       "      <td>...</td>\n",
       "      <td>...</td>\n",
       "      <td>...</td>\n",
       "    </tr>\n",
       "    <tr>\n",
       "      <th>4511</th>\n",
       "      <td>2015-05-09</td>\n",
       "      <td>15</td>\n",
       "      <td>0.00</td>\n",
       "      <td>19</td>\n",
       "      <td>45.0</td>\n",
       "      <td>16</td>\n",
       "      <td>2015-05-09</td>\n",
       "    </tr>\n",
       "    <tr>\n",
       "      <th>4512</th>\n",
       "      <td>2015-05-10</td>\n",
       "      <td>14</td>\n",
       "      <td>0.00</td>\n",
       "      <td>21</td>\n",
       "      <td>47.0</td>\n",
       "      <td>16</td>\n",
       "      <td>2015-05-10</td>\n",
       "    </tr>\n",
       "    <tr>\n",
       "      <th>4513</th>\n",
       "      <td>2015-05-11</td>\n",
       "      <td>14</td>\n",
       "      <td>0.00</td>\n",
       "      <td>36</td>\n",
       "      <td>66.0</td>\n",
       "      <td>16</td>\n",
       "      <td>2015-05-11</td>\n",
       "    </tr>\n",
       "    <tr>\n",
       "      <th>4514</th>\n",
       "      <td>2015-05-12</td>\n",
       "      <td>14</td>\n",
       "      <td>0.00</td>\n",
       "      <td>38</td>\n",
       "      <td>69.0</td>\n",
       "      <td>16</td>\n",
       "      <td>2015-05-12</td>\n",
       "    </tr>\n",
       "    <tr>\n",
       "      <th>4515</th>\n",
       "      <td>2015-05-13</td>\n",
       "      <td>15</td>\n",
       "      <td>0.00</td>\n",
       "      <td>19</td>\n",
       "      <td>40.0</td>\n",
       "      <td>16</td>\n",
       "      <td>2015-05-13</td>\n",
       "    </tr>\n",
       "  </tbody>\n",
       "</table>\n",
       "<p>4516 rows × 7 columns</p>\n",
       "</div>"
      ],
      "text/plain": [
       "            date  avg_temp (celsius) precipitation (mm) wind_speed (km/h)  \\\n",
       "0     2003-01-01                   9               0.00                 3   \n",
       "1     2003-01-02                  10               0.00                 5   \n",
       "2     2003-01-03                  10               0.00                 5   \n",
       "3     2003-01-04                  11               0.00                 5   \n",
       "4     2003-01-05                  11               0.25                 5   \n",
       "...          ...                 ...                ...               ...   \n",
       "4511  2015-05-09                  15               0.00                19   \n",
       "4512  2015-05-10                  14               0.00                21   \n",
       "4513  2015-05-11                  14               0.00                36   \n",
       "4514  2015-05-12                  14               0.00                38   \n",
       "4515  2015-05-13                  15               0.00                19   \n",
       "\n",
       "      visibility (km) moon_illumination, %       Dates  \n",
       "0                15.0   Waning Crescent, 1  2003-01-01  \n",
       "1                15.0   Waning Crescent, 0  2003-01-02  \n",
       "2                15.0          New Moon, 1  2003-01-03  \n",
       "3                15.0   Waxing Crescent, 5  2003-01-04  \n",
       "4                 6.0  Waxing Crescent, 10  2003-01-05  \n",
       "...               ...                  ...         ...  \n",
       "4511             45.0                   16  2015-05-09  \n",
       "4512             47.0                   16  2015-05-10  \n",
       "4513             66.0                   16  2015-05-11  \n",
       "4514             69.0                   16  2015-05-12  \n",
       "4515             40.0                   16  2015-05-13  \n",
       "\n",
       "[4516 rows x 7 columns]"
      ]
     },
     "execution_count": 11,
     "metadata": {},
     "output_type": "execute_result"
    }
   ],
   "source": [
    "weather[\"Dates\"] = pd.to_datetime(weather[\"date\"]).dt.date\n",
    "weather"
   ]
  },
  {
   "cell_type": "code",
   "execution_count": 12,
   "metadata": {
    "id": "zwKJ5bphgKww"
   },
   "outputs": [],
   "source": [
    "weather_original = weather.copy()\n",
    "weather_original[\"Dates\"] = pd.to_datetime(weather[\"Dates\"])\n",
    "weather_original.set_index(keys=weather_original[\"Dates\"], inplace=True)\n",
    "weather_original.drop(columns=[\"Dates\"], inplace=True)"
   ]
  },
  {
   "cell_type": "code",
   "execution_count": 13,
   "metadata": {
    "id": "4Kk4hEZNVSNH"
   },
   "outputs": [],
   "source": [
    "weather.drop(columns=[\"date\", \"moon_illumination, %\"], inplace=True)"
   ]
  },
  {
   "cell_type": "code",
   "execution_count": 14,
   "metadata": {
    "colab": {
     "base_uri": "https://localhost:8080/",
     "height": 204
    },
    "id": "o1bE64PnGyaB",
    "outputId": "b89455c9-6470-4bfb-cb00-a93af48fca44"
   },
   "outputs": [
    {
     "data": {
      "text/html": [
       "<div>\n",
       "<style scoped>\n",
       "    .dataframe tbody tr th:only-of-type {\n",
       "        vertical-align: middle;\n",
       "    }\n",
       "\n",
       "    .dataframe tbody tr th {\n",
       "        vertical-align: top;\n",
       "    }\n",
       "\n",
       "    .dataframe thead th {\n",
       "        text-align: right;\n",
       "    }\n",
       "</style>\n",
       "<table border=\"1\" class=\"dataframe\">\n",
       "  <thead>\n",
       "    <tr style=\"text-align: right;\">\n",
       "      <th></th>\n",
       "      <th>avg_temp (celsius)</th>\n",
       "      <th>precipitation (mm)</th>\n",
       "      <th>wind_speed (km/h)</th>\n",
       "      <th>visibility (km)</th>\n",
       "      <th>Dates</th>\n",
       "    </tr>\n",
       "  </thead>\n",
       "  <tbody>\n",
       "    <tr>\n",
       "      <th>0</th>\n",
       "      <td>9</td>\n",
       "      <td>0.00</td>\n",
       "      <td>3</td>\n",
       "      <td>15.0</td>\n",
       "      <td>2003-01-01</td>\n",
       "    </tr>\n",
       "    <tr>\n",
       "      <th>1</th>\n",
       "      <td>10</td>\n",
       "      <td>0.00</td>\n",
       "      <td>5</td>\n",
       "      <td>15.0</td>\n",
       "      <td>2003-01-02</td>\n",
       "    </tr>\n",
       "    <tr>\n",
       "      <th>2</th>\n",
       "      <td>10</td>\n",
       "      <td>0.00</td>\n",
       "      <td>5</td>\n",
       "      <td>15.0</td>\n",
       "      <td>2003-01-03</td>\n",
       "    </tr>\n",
       "    <tr>\n",
       "      <th>3</th>\n",
       "      <td>11</td>\n",
       "      <td>0.00</td>\n",
       "      <td>5</td>\n",
       "      <td>15.0</td>\n",
       "      <td>2003-01-04</td>\n",
       "    </tr>\n",
       "    <tr>\n",
       "      <th>4</th>\n",
       "      <td>11</td>\n",
       "      <td>0.25</td>\n",
       "      <td>5</td>\n",
       "      <td>6.0</td>\n",
       "      <td>2003-01-05</td>\n",
       "    </tr>\n",
       "  </tbody>\n",
       "</table>\n",
       "</div>"
      ],
      "text/plain": [
       "   avg_temp (celsius) precipitation (mm) wind_speed (km/h)  visibility (km)  \\\n",
       "0                   9               0.00                 3             15.0   \n",
       "1                  10               0.00                 5             15.0   \n",
       "2                  10               0.00                 5             15.0   \n",
       "3                  11               0.00                 5             15.0   \n",
       "4                  11               0.25                 5              6.0   \n",
       "\n",
       "        Dates  \n",
       "0  2003-01-01  \n",
       "1  2003-01-02  \n",
       "2  2003-01-03  \n",
       "3  2003-01-04  \n",
       "4  2003-01-05  "
      ]
     },
     "execution_count": 14,
     "metadata": {},
     "output_type": "execute_result"
    }
   ],
   "source": [
    "weather.head()"
   ]
  },
  {
   "cell_type": "markdown",
   "metadata": {
    "id": "nv2dkVbwIGF7"
   },
   "source": [
    "## **Data Preprocessing - Football Schedule**"
   ]
  },
  {
   "cell_type": "code",
   "execution_count": 15,
   "metadata": {
    "colab": {
     "base_uri": "https://localhost:8080/",
     "height": 0
    },
    "id": "bMsLrTcbKN0q",
    "outputId": "90889bcd-e6b2-466a-9507-5dfe66cd8fc8"
   },
   "outputs": [
    {
     "data": {
      "text/html": [
       "<div>\n",
       "<style scoped>\n",
       "    .dataframe tbody tr th:only-of-type {\n",
       "        vertical-align: middle;\n",
       "    }\n",
       "\n",
       "    .dataframe tbody tr th {\n",
       "        vertical-align: top;\n",
       "    }\n",
       "\n",
       "    .dataframe thead th {\n",
       "        text-align: right;\n",
       "    }\n",
       "</style>\n",
       "<table border=\"1\" class=\"dataframe\">\n",
       "  <thead>\n",
       "    <tr style=\"text-align: right;\">\n",
       "      <th></th>\n",
       "      <th>Missing Values %</th>\n",
       "    </tr>\n",
       "  </thead>\n",
       "  <tbody>\n",
       "    <tr>\n",
       "      <th>Date</th>\n",
       "      <td>0.0</td>\n",
       "    </tr>\n",
       "    <tr>\n",
       "      <th>Output</th>\n",
       "      <td>0.0</td>\n",
       "    </tr>\n",
       "    <tr>\n",
       "      <th>Home</th>\n",
       "      <td>0.0</td>\n",
       "    </tr>\n",
       "  </tbody>\n",
       "</table>\n",
       "</div>"
      ],
      "text/plain": [
       "        Missing Values %\n",
       "Date                 0.0\n",
       "Output               0.0\n",
       "Home                 0.0"
      ]
     },
     "execution_count": 15,
     "metadata": {},
     "output_type": "execute_result"
    }
   ],
   "source": [
    "football_missing = pd.DataFrame(football.isnull().mean()*100, columns=[\"Missing Values %\"])\n",
    "football_missing"
   ]
  },
  {
   "cell_type": "code",
   "execution_count": 16,
   "metadata": {
    "id": "S8NpAHLcIQTI"
   },
   "outputs": [],
   "source": [
    "football[\"Dates\"] = pd.to_datetime(football[\"Date\"])\n",
    "football.drop(columns=[\"Date\"], inplace=True)\n",
    "football.rename(columns={\"Output\":\"NFL_Output\",\n",
    "                 \"Home\":\"NFL_Home\"}, inplace=True)\n",
    "football[\"NFL_Game_Day\"] = 1"
   ]
  },
  {
   "cell_type": "code",
   "execution_count": 17,
   "metadata": {
    "colab": {
     "base_uri": "https://localhost:8080/",
     "height": 0
    },
    "id": "RY3djz3KIL_C",
    "outputId": "d864253a-30ef-407b-ffdc-e8f5695bef57"
   },
   "outputs": [
    {
     "data": {
      "text/html": [
       "<div>\n",
       "<style scoped>\n",
       "    .dataframe tbody tr th:only-of-type {\n",
       "        vertical-align: middle;\n",
       "    }\n",
       "\n",
       "    .dataframe tbody tr th {\n",
       "        vertical-align: top;\n",
       "    }\n",
       "\n",
       "    .dataframe thead th {\n",
       "        text-align: right;\n",
       "    }\n",
       "</style>\n",
       "<table border=\"1\" class=\"dataframe\">\n",
       "  <thead>\n",
       "    <tr style=\"text-align: right;\">\n",
       "      <th></th>\n",
       "      <th>NFL_Output</th>\n",
       "      <th>NFL_Home</th>\n",
       "      <th>Dates</th>\n",
       "      <th>NFL_Game_Day</th>\n",
       "    </tr>\n",
       "  </thead>\n",
       "  <tbody>\n",
       "    <tr>\n",
       "      <th>0</th>\n",
       "      <td>W</td>\n",
       "      <td>1.0</td>\n",
       "      <td>2003-09-07</td>\n",
       "      <td>1</td>\n",
       "    </tr>\n",
       "    <tr>\n",
       "      <th>1</th>\n",
       "      <td>L</td>\n",
       "      <td>0.0</td>\n",
       "      <td>2003-09-14</td>\n",
       "      <td>1</td>\n",
       "    </tr>\n",
       "    <tr>\n",
       "      <th>2</th>\n",
       "      <td>L</td>\n",
       "      <td>1.0</td>\n",
       "      <td>2003-09-21</td>\n",
       "      <td>1</td>\n",
       "    </tr>\n",
       "    <tr>\n",
       "      <th>3</th>\n",
       "      <td>L</td>\n",
       "      <td>0.0</td>\n",
       "      <td>2003-09-28</td>\n",
       "      <td>1</td>\n",
       "    </tr>\n",
       "    <tr>\n",
       "      <th>4</th>\n",
       "      <td>W</td>\n",
       "      <td>1.0</td>\n",
       "      <td>2003-10-05</td>\n",
       "      <td>1</td>\n",
       "    </tr>\n",
       "  </tbody>\n",
       "</table>\n",
       "</div>"
      ],
      "text/plain": [
       "  NFL_Output NFL_Home      Dates  NFL_Game_Day\n",
       "0          W      1.0 2003-09-07             1\n",
       "1          L      0.0 2003-09-14             1\n",
       "2          L      1.0 2003-09-21             1\n",
       "3          L      0.0 2003-09-28             1\n",
       "4          W      1.0 2003-10-05             1"
      ]
     },
     "execution_count": 17,
     "metadata": {},
     "output_type": "execute_result"
    }
   ],
   "source": [
    "football.head()"
   ]
  },
  {
   "cell_type": "markdown",
   "metadata": {
    "id": "KeML0V-YS1fW"
   },
   "source": [
    "## **Merge crimes, weather, and football schedule dataframes**"
   ]
  },
  {
   "cell_type": "code",
   "execution_count": 18,
   "metadata": {
    "id": "pjyDhz-dTrBi"
   },
   "outputs": [],
   "source": [
    "data=pd.merge(crimes, weather, how=\"left\", on=\"Dates\")\n",
    "data[\"Dates\"] = pd.to_datetime(data[\"Dates\"])\n",
    "data=pd.merge(data, football, how=\"left\", on=\"Dates\") #Added this line\n",
    "data[\"Dates\"] = pd.to_datetime(data[\"Dates\"])\n",
    "data.set_index(keys=data[\"Dates\"], inplace=True)\n",
    "data.drop(columns=[\"Dates\"], inplace=True)"
   ]
  },
  {
   "cell_type": "code",
   "execution_count": 19,
   "metadata": {
    "id": "xuGmbMC3iM1R"
   },
   "outputs": [],
   "source": [
    "data.rename(columns={\"avg_temp (celsius)\":\"avg_temp\",\n",
    "             \"precipitation (mm)\":\"precipitation\",\n",
    "             \"wind_speed (km/h)\":\"wind_speed\",\n",
    "             \"visibility (km)\":\"visibility\"\n",
    "             }, inplace=True)"
   ]
  },
  {
   "cell_type": "code",
   "execution_count": 20,
   "metadata": {
    "id": "n7V9ZsCwnErP"
   },
   "outputs": [],
   "source": [
    "data[\"precipitation\"].replace({\"T\":np.nan}, inplace=True)\n",
    "data[\"precipitation\"] = data[\"precipitation\"].astype(\"float\")"
   ]
  },
  {
   "cell_type": "code",
   "execution_count": 21,
   "metadata": {
    "id": "n_4wXbJ2nyYm"
   },
   "outputs": [],
   "source": [
    "data[\"wind_speed\"].replace({\"Waning Crescent, 14\":np.nan}, inplace=True)\n",
    "data[\"wind_speed\"] = data[\"wind_speed\"].astype(\"float\")"
   ]
  },
  {
   "cell_type": "code",
   "execution_count": 22,
   "metadata": {
    "id": "huC_aGKSTYJW"
   },
   "outputs": [],
   "source": [
    "data[\"NFL_Output\"].fillna(\"No Game\", inplace=True)\n",
    "data[\"NFL_Home\"].fillna(3, inplace=True) #3 Indicates no game for that day\n",
    "data[\"NFL_Game_Day\"].fillna(0, inplace=True)"
   ]
  },
  {
   "cell_type": "code",
   "execution_count": 23,
   "metadata": {
    "id": "lmqLd0CxQxVV"
   },
   "outputs": [],
   "source": [
    "data[\"NFL_Home\"].replace({\"0\": 0,\n",
    "                          \"1\":1,\n",
    "                          \"0.0\":0,\n",
    "                          \"1.0\":1}, inplace=True)"
   ]
  },
  {
   "cell_type": "code",
   "execution_count": 24,
   "metadata": {
    "id": "dg8JsRSgQKlj"
   },
   "outputs": [],
   "source": [
    "data[\"NFL_Game_Day\"] = data[\"NFL_Game_Day\"].astype(\"int\")"
   ]
  },
  {
   "cell_type": "code",
   "execution_count": 28,
   "metadata": {
    "colab": {
     "base_uri": "https://localhost:8080/",
     "height": 0
    },
    "id": "-IpXxoDyOgna",
    "outputId": "cf6e9b70-c828-4a83-9c9a-30a41369235a"
   },
   "outputs": [
    {
     "data": {
      "text/html": [
       "<div>\n",
       "<style scoped>\n",
       "    .dataframe tbody tr th:only-of-type {\n",
       "        vertical-align: middle;\n",
       "    }\n",
       "\n",
       "    .dataframe tbody tr th {\n",
       "        vertical-align: top;\n",
       "    }\n",
       "\n",
       "    .dataframe thead th {\n",
       "        text-align: right;\n",
       "    }\n",
       "</style>\n",
       "<table border=\"1\" class=\"dataframe\">\n",
       "  <thead>\n",
       "    <tr style=\"text-align: right;\">\n",
       "      <th></th>\n",
       "      <th>DayOfWeek</th>\n",
       "      <th>PdDistrict</th>\n",
       "      <th>avg_temp</th>\n",
       "      <th>precipitation</th>\n",
       "      <th>wind_speed</th>\n",
       "      <th>visibility</th>\n",
       "      <th>NFL_Output</th>\n",
       "      <th>NFL_Home</th>\n",
       "      <th>NFL_Game_Day</th>\n",
       "    </tr>\n",
       "    <tr>\n",
       "      <th>Dates</th>\n",
       "      <th></th>\n",
       "      <th></th>\n",
       "      <th></th>\n",
       "      <th></th>\n",
       "      <th></th>\n",
       "      <th></th>\n",
       "      <th></th>\n",
       "      <th></th>\n",
       "      <th></th>\n",
       "    </tr>\n",
       "  </thead>\n",
       "  <tbody>\n",
       "    <tr>\n",
       "      <th>2015-05-13</th>\n",
       "      <td>Wednesday</td>\n",
       "      <td>NORTHERN</td>\n",
       "      <td>15</td>\n",
       "      <td>0.0</td>\n",
       "      <td>19.0</td>\n",
       "      <td>40.0</td>\n",
       "      <td>No Game</td>\n",
       "      <td>3</td>\n",
       "      <td>0</td>\n",
       "    </tr>\n",
       "    <tr>\n",
       "      <th>2015-05-13</th>\n",
       "      <td>Wednesday</td>\n",
       "      <td>NORTHERN</td>\n",
       "      <td>15</td>\n",
       "      <td>0.0</td>\n",
       "      <td>19.0</td>\n",
       "      <td>40.0</td>\n",
       "      <td>No Game</td>\n",
       "      <td>3</td>\n",
       "      <td>0</td>\n",
       "    </tr>\n",
       "    <tr>\n",
       "      <th>2015-05-13</th>\n",
       "      <td>Wednesday</td>\n",
       "      <td>NORTHERN</td>\n",
       "      <td>15</td>\n",
       "      <td>0.0</td>\n",
       "      <td>19.0</td>\n",
       "      <td>40.0</td>\n",
       "      <td>No Game</td>\n",
       "      <td>3</td>\n",
       "      <td>0</td>\n",
       "    </tr>\n",
       "    <tr>\n",
       "      <th>2015-05-13</th>\n",
       "      <td>Wednesday</td>\n",
       "      <td>NORTHERN</td>\n",
       "      <td>15</td>\n",
       "      <td>0.0</td>\n",
       "      <td>19.0</td>\n",
       "      <td>40.0</td>\n",
       "      <td>No Game</td>\n",
       "      <td>3</td>\n",
       "      <td>0</td>\n",
       "    </tr>\n",
       "    <tr>\n",
       "      <th>2015-05-13</th>\n",
       "      <td>Wednesday</td>\n",
       "      <td>PARK</td>\n",
       "      <td>15</td>\n",
       "      <td>0.0</td>\n",
       "      <td>19.0</td>\n",
       "      <td>40.0</td>\n",
       "      <td>No Game</td>\n",
       "      <td>3</td>\n",
       "      <td>0</td>\n",
       "    </tr>\n",
       "    <tr>\n",
       "      <th>2015-05-13</th>\n",
       "      <td>Wednesday</td>\n",
       "      <td>INGLESIDE</td>\n",
       "      <td>15</td>\n",
       "      <td>0.0</td>\n",
       "      <td>19.0</td>\n",
       "      <td>40.0</td>\n",
       "      <td>No Game</td>\n",
       "      <td>3</td>\n",
       "      <td>0</td>\n",
       "    </tr>\n",
       "    <tr>\n",
       "      <th>2015-05-13</th>\n",
       "      <td>Wednesday</td>\n",
       "      <td>INGLESIDE</td>\n",
       "      <td>15</td>\n",
       "      <td>0.0</td>\n",
       "      <td>19.0</td>\n",
       "      <td>40.0</td>\n",
       "      <td>No Game</td>\n",
       "      <td>3</td>\n",
       "      <td>0</td>\n",
       "    </tr>\n",
       "    <tr>\n",
       "      <th>2015-05-13</th>\n",
       "      <td>Wednesday</td>\n",
       "      <td>BAYVIEW</td>\n",
       "      <td>15</td>\n",
       "      <td>0.0</td>\n",
       "      <td>19.0</td>\n",
       "      <td>40.0</td>\n",
       "      <td>No Game</td>\n",
       "      <td>3</td>\n",
       "      <td>0</td>\n",
       "    </tr>\n",
       "    <tr>\n",
       "      <th>2015-05-13</th>\n",
       "      <td>Wednesday</td>\n",
       "      <td>RICHMOND</td>\n",
       "      <td>15</td>\n",
       "      <td>0.0</td>\n",
       "      <td>19.0</td>\n",
       "      <td>40.0</td>\n",
       "      <td>No Game</td>\n",
       "      <td>3</td>\n",
       "      <td>0</td>\n",
       "    </tr>\n",
       "    <tr>\n",
       "      <th>2015-05-13</th>\n",
       "      <td>Wednesday</td>\n",
       "      <td>CENTRAL</td>\n",
       "      <td>15</td>\n",
       "      <td>0.0</td>\n",
       "      <td>19.0</td>\n",
       "      <td>40.0</td>\n",
       "      <td>No Game</td>\n",
       "      <td>3</td>\n",
       "      <td>0</td>\n",
       "    </tr>\n",
       "    <tr>\n",
       "      <th>2015-05-13</th>\n",
       "      <td>Wednesday</td>\n",
       "      <td>CENTRAL</td>\n",
       "      <td>15</td>\n",
       "      <td>0.0</td>\n",
       "      <td>19.0</td>\n",
       "      <td>40.0</td>\n",
       "      <td>No Game</td>\n",
       "      <td>3</td>\n",
       "      <td>0</td>\n",
       "    </tr>\n",
       "    <tr>\n",
       "      <th>2015-05-13</th>\n",
       "      <td>Wednesday</td>\n",
       "      <td>TARAVAL</td>\n",
       "      <td>15</td>\n",
       "      <td>0.0</td>\n",
       "      <td>19.0</td>\n",
       "      <td>40.0</td>\n",
       "      <td>No Game</td>\n",
       "      <td>3</td>\n",
       "      <td>0</td>\n",
       "    </tr>\n",
       "    <tr>\n",
       "      <th>2015-05-13</th>\n",
       "      <td>Wednesday</td>\n",
       "      <td>TENDERLOIN</td>\n",
       "      <td>15</td>\n",
       "      <td>0.0</td>\n",
       "      <td>19.0</td>\n",
       "      <td>40.0</td>\n",
       "      <td>No Game</td>\n",
       "      <td>3</td>\n",
       "      <td>0</td>\n",
       "    </tr>\n",
       "    <tr>\n",
       "      <th>2015-05-13</th>\n",
       "      <td>Wednesday</td>\n",
       "      <td>NORTHERN</td>\n",
       "      <td>15</td>\n",
       "      <td>0.0</td>\n",
       "      <td>19.0</td>\n",
       "      <td>40.0</td>\n",
       "      <td>No Game</td>\n",
       "      <td>3</td>\n",
       "      <td>0</td>\n",
       "    </tr>\n",
       "    <tr>\n",
       "      <th>2015-05-13</th>\n",
       "      <td>Wednesday</td>\n",
       "      <td>BAYVIEW</td>\n",
       "      <td>15</td>\n",
       "      <td>0.0</td>\n",
       "      <td>19.0</td>\n",
       "      <td>40.0</td>\n",
       "      <td>No Game</td>\n",
       "      <td>3</td>\n",
       "      <td>0</td>\n",
       "    </tr>\n",
       "    <tr>\n",
       "      <th>2015-05-13</th>\n",
       "      <td>Wednesday</td>\n",
       "      <td>BAYVIEW</td>\n",
       "      <td>15</td>\n",
       "      <td>0.0</td>\n",
       "      <td>19.0</td>\n",
       "      <td>40.0</td>\n",
       "      <td>No Game</td>\n",
       "      <td>3</td>\n",
       "      <td>0</td>\n",
       "    </tr>\n",
       "    <tr>\n",
       "      <th>2015-05-13</th>\n",
       "      <td>Wednesday</td>\n",
       "      <td>TENDERLOIN</td>\n",
       "      <td>15</td>\n",
       "      <td>0.0</td>\n",
       "      <td>19.0</td>\n",
       "      <td>40.0</td>\n",
       "      <td>No Game</td>\n",
       "      <td>3</td>\n",
       "      <td>0</td>\n",
       "    </tr>\n",
       "    <tr>\n",
       "      <th>2015-05-13</th>\n",
       "      <td>Wednesday</td>\n",
       "      <td>INGLESIDE</td>\n",
       "      <td>15</td>\n",
       "      <td>0.0</td>\n",
       "      <td>19.0</td>\n",
       "      <td>40.0</td>\n",
       "      <td>No Game</td>\n",
       "      <td>3</td>\n",
       "      <td>0</td>\n",
       "    </tr>\n",
       "    <tr>\n",
       "      <th>2015-05-13</th>\n",
       "      <td>Wednesday</td>\n",
       "      <td>BAYVIEW</td>\n",
       "      <td>15</td>\n",
       "      <td>0.0</td>\n",
       "      <td>19.0</td>\n",
       "      <td>40.0</td>\n",
       "      <td>No Game</td>\n",
       "      <td>3</td>\n",
       "      <td>0</td>\n",
       "    </tr>\n",
       "    <tr>\n",
       "      <th>2015-05-13</th>\n",
       "      <td>Wednesday</td>\n",
       "      <td>TENDERLOIN</td>\n",
       "      <td>15</td>\n",
       "      <td>0.0</td>\n",
       "      <td>19.0</td>\n",
       "      <td>40.0</td>\n",
       "      <td>No Game</td>\n",
       "      <td>3</td>\n",
       "      <td>0</td>\n",
       "    </tr>\n",
       "  </tbody>\n",
       "</table>\n",
       "</div>"
      ],
      "text/plain": [
       "            DayOfWeek  PdDistrict  avg_temp  precipitation  wind_speed  \\\n",
       "Dates                                                                    \n",
       "2015-05-13  Wednesday    NORTHERN        15            0.0        19.0   \n",
       "2015-05-13  Wednesday    NORTHERN        15            0.0        19.0   \n",
       "2015-05-13  Wednesday    NORTHERN        15            0.0        19.0   \n",
       "2015-05-13  Wednesday    NORTHERN        15            0.0        19.0   \n",
       "2015-05-13  Wednesday        PARK        15            0.0        19.0   \n",
       "2015-05-13  Wednesday   INGLESIDE        15            0.0        19.0   \n",
       "2015-05-13  Wednesday   INGLESIDE        15            0.0        19.0   \n",
       "2015-05-13  Wednesday     BAYVIEW        15            0.0        19.0   \n",
       "2015-05-13  Wednesday    RICHMOND        15            0.0        19.0   \n",
       "2015-05-13  Wednesday     CENTRAL        15            0.0        19.0   \n",
       "2015-05-13  Wednesday     CENTRAL        15            0.0        19.0   \n",
       "2015-05-13  Wednesday     TARAVAL        15            0.0        19.0   \n",
       "2015-05-13  Wednesday  TENDERLOIN        15            0.0        19.0   \n",
       "2015-05-13  Wednesday    NORTHERN        15            0.0        19.0   \n",
       "2015-05-13  Wednesday     BAYVIEW        15            0.0        19.0   \n",
       "2015-05-13  Wednesday     BAYVIEW        15            0.0        19.0   \n",
       "2015-05-13  Wednesday  TENDERLOIN        15            0.0        19.0   \n",
       "2015-05-13  Wednesday   INGLESIDE        15            0.0        19.0   \n",
       "2015-05-13  Wednesday     BAYVIEW        15            0.0        19.0   \n",
       "2015-05-13  Wednesday  TENDERLOIN        15            0.0        19.0   \n",
       "\n",
       "            visibility NFL_Output  NFL_Home  NFL_Game_Day  \n",
       "Dates                                                      \n",
       "2015-05-13        40.0    No Game         3             0  \n",
       "2015-05-13        40.0    No Game         3             0  \n",
       "2015-05-13        40.0    No Game         3             0  \n",
       "2015-05-13        40.0    No Game         3             0  \n",
       "2015-05-13        40.0    No Game         3             0  \n",
       "2015-05-13        40.0    No Game         3             0  \n",
       "2015-05-13        40.0    No Game         3             0  \n",
       "2015-05-13        40.0    No Game         3             0  \n",
       "2015-05-13        40.0    No Game         3             0  \n",
       "2015-05-13        40.0    No Game         3             0  \n",
       "2015-05-13        40.0    No Game         3             0  \n",
       "2015-05-13        40.0    No Game         3             0  \n",
       "2015-05-13        40.0    No Game         3             0  \n",
       "2015-05-13        40.0    No Game         3             0  \n",
       "2015-05-13        40.0    No Game         3             0  \n",
       "2015-05-13        40.0    No Game         3             0  \n",
       "2015-05-13        40.0    No Game         3             0  \n",
       "2015-05-13        40.0    No Game         3             0  \n",
       "2015-05-13        40.0    No Game         3             0  \n",
       "2015-05-13        40.0    No Game         3             0  "
      ]
     },
     "execution_count": 28,
     "metadata": {},
     "output_type": "execute_result"
    }
   ],
   "source": [
    "data.head(20)\n",
    "#trabajar un modelo general para predecir el crimen en funcion de la tempereratura promedio, \n",
    "#si hay partido de la NFL, que dia es, que mes y los lags del 4 al 1"
   ]
  },
  {
   "cell_type": "code",
   "execution_count": 27,
   "metadata": {
    "colab": {
     "base_uri": "https://localhost:8080/",
     "height": 0
    },
    "id": "9f5tr9KGqLOp",
    "outputId": "febf0c4e-7d17-463f-9513-52cf16fce550"
   },
   "outputs": [
    {
     "name": "stdout",
     "output_type": "stream",
     "text": [
      "<class 'pandas.core.frame.DataFrame'>\n",
      "DatetimeIndex: 878049 entries, 2015-05-13 to 2003-01-06\n",
      "Data columns (total 9 columns):\n",
      " #   Column         Non-Null Count   Dtype  \n",
      "---  ------         --------------   -----  \n",
      " 0   DayOfWeek      878049 non-null  object \n",
      " 1   PdDistrict     878049 non-null  object \n",
      " 2   avg_temp       878049 non-null  int64  \n",
      " 3   precipitation  830591 non-null  float64\n",
      " 4   wind_speed     877621 non-null  float64\n",
      " 5   visibility     878049 non-null  float64\n",
      " 6   NFL_Output     878049 non-null  object \n",
      " 7   NFL_Home       878049 non-null  int64  \n",
      " 8   NFL_Game_Day   878049 non-null  int32  \n",
      "dtypes: float64(3), int32(1), int64(2), object(3)\n",
      "memory usage: 63.6+ MB\n"
     ]
    }
   ],
   "source": [
    "data.info()"
   ]
  },
  {
   "cell_type": "markdown",
   "metadata": {
    "id": "KPx_lgVsXsXR"
   },
   "source": [
    "## **Crimes by Year**"
   ]
  },
  {
   "cell_type": "code",
   "execution_count": 28,
   "metadata": {
    "colab": {
     "base_uri": "https://localhost:8080/",
     "height": 404
    },
    "id": "0NpKBpC9XyBL",
    "outputId": "1380fe89-99b5-4cf3-cf1c-bef1ad7c21a9"
   },
   "outputs": [
    {
     "data": {
      "image/png": "[encoded data removed]",
      "text/plain": [
       "<Figure size 864x432 with 1 Axes>"
      ]
     },
     "metadata": {},
     "output_type": "display_data"
    }
   ],
   "source": [
    "plt.figure(figsize=(12,6))\n",
    "yearly_crimes = data[\"DayOfWeek\"].resample(\"Y\").count()\n",
    "years = [x for x in range(2003, 2016)]\n",
    "sns.lineplot(x=years, y=yearly_crimes.values)\n",
    "plt.xlabel(\"Year\")\n",
    "plt.ylabel(\"Crimes\")\n",
    "plt.xticks(years, years)\n",
    "plt.title(\"Crimes per Year\")\n",
    "plt.show()"
   ]
  },
  {
   "cell_type": "markdown",
   "metadata": {
    "id": "6UcVvQjKaIZ4"
   },
   "source": [
    "## **Crimes by Day of the Week**"
   ]
  },
  {
   "cell_type": "code",
   "execution_count": 29,
   "metadata": {
    "colab": {
     "base_uri": "https://localhost:8080/",
     "height": 0
    },
    "id": "BQxH47n9aP9I",
    "outputId": "449d81b4-bc76-4499-fc02-d8c238a4b395"
   },
   "outputs": [
    {
     "data": {
      "image/png": "[encoded data removed]",
      "text/plain": [
       "<Figure size 864x432 with 1 Axes>"
      ]
     },
     "metadata": {},
     "output_type": "display_data"
    }
   ],
   "source": [
    "plt.figure(figsize=(12,6))\n",
    "sns.countplot(x=\"DayOfWeek\", data=data, order=[\"Monday\", \"Tuesday\", \"Wednesday\", \"Thursday\", \"Friday\", \"Saturday\", \"Sunday\"])\n",
    "plt.title(\"Crimes by Day of the Week\")\n",
    "plt.xlabel(\"Day of the Week\")\n",
    "plt.ylabel(\"Crimes\")\n",
    "plt.xticks(rotation=90)\n",
    "plt.show()"
   ]
  },
  {
   "cell_type": "code",
   "execution_count": 30,
   "metadata": {
    "colab": {
     "base_uri": "https://localhost:8080/",
     "height": 0
    },
    "id": "LoPWykp1qLPA",
    "outputId": "750a305b-1c35-49bb-dbe9-54dca9c5b70b"
   },
   "outputs": [
    {
     "name": "stdout",
     "output_type": "stream",
     "text": [
      "<class 'pandas.core.frame.DataFrame'>\n",
      "DatetimeIndex: 878049 entries, 2015-05-13 to 2003-01-06\n",
      "Data columns (total 9 columns):\n",
      " #   Column         Non-Null Count   Dtype  \n",
      "---  ------         --------------   -----  \n",
      " 0   DayOfWeek      878049 non-null  object \n",
      " 1   PdDistrict     878049 non-null  object \n",
      " 2   avg_temp       878049 non-null  int64  \n",
      " 3   precipitation  830591 non-null  float64\n",
      " 4   wind_speed     877621 non-null  float64\n",
      " 5   visibility     878049 non-null  float64\n",
      " 6   NFL_Output     878049 non-null  object \n",
      " 7   NFL_Home       878049 non-null  int64  \n",
      " 8   NFL_Game_Day   878049 non-null  int32  \n",
      "dtypes: float64(3), int32(1), int64(2), object(3)\n",
      "memory usage: 63.6+ MB\n"
     ]
    }
   ],
   "source": [
    "data.info()"
   ]
  },
  {
   "cell_type": "markdown",
   "metadata": {
    "id": "vnjvV0yjadfJ"
   },
   "source": [
    "## **Crimes per Hour**"
   ]
  },
  {
   "cell_type": "code",
   "execution_count": 31,
   "metadata": {
    "colab": {
     "base_uri": "https://localhost:8080/",
     "height": 404
    },
    "id": "_yqtZZ4xZny6",
    "outputId": "e95e2f4c-6902-4438-8b6a-426dcf506f4b"
   },
   "outputs": [
    {
     "data": {
      "image/png": "[encoded data removed]",
      "text/plain": [
       "<Figure size 864x432 with 1 Axes>"
      ]
     },
     "metadata": {},
     "output_type": "display_data"
    }
   ],
   "source": [
    "plt.figure(figsize=(12,6))\n",
    "hourly_crimes = crimes_original[\"DayOfWeek\"].resample(\"H\").count()\n",
    "hours = [x for x in range(0, 24)]\n",
    "hourly_crimes = round(hourly_crimes.groupby(hourly_crimes.index.hour).mean(), 0)\n",
    "hourly_crimes.values\n",
    "sns.lineplot(x=hours, y=hourly_crimes.values)\n",
    "plt.xlabel(\"Hour\")\n",
    "plt.ylabel(\"Avg. Crimes\")\n",
    "plt.title(\"Average Crimes per Hour\")\n",
    "plt.xticks(hours, hours)\n",
    "plt.show()"
   ]
  },
  {
   "cell_type": "markdown",
   "metadata": {
    "id": "cLkob1PkbsJ_"
   },
   "source": [
    "## **Crimes by Category**"
   ]
  },
  {
   "cell_type": "code",
   "execution_count": 32,
   "metadata": {
    "colab": {
     "base_uri": "https://localhost:8080/",
     "height": 557
    },
    "id": "--zTog9acV3B",
    "outputId": "17e439c9-5b41-4cc4-df85-fda5995a5698"
   },
   "outputs": [
    {
     "data": {
      "image/png": "[encoded data removed]",
      "text/plain": [
       "<Figure size 864x432 with 1 Axes>"
      ]
     },
     "metadata": {},
     "output_type": "display_data"
    }
   ],
   "source": [
    "plt.figure(figsize=(12,6))\n",
    "sns.countplot(x=\"Category\", data=crimes_original, order=crimes_original[\"Category\"].value_counts().index)\n",
    "plt.title(\"Crimes by Category\")\n",
    "plt.ylabel(\"Crimes\")\n",
    "plt.xticks(rotation=90)\n",
    "plt.show()"
   ]
  },
  {
   "cell_type": "markdown",
   "metadata": {
    "id": "udgtMU6HdHMW"
   },
   "source": [
    "## **Crimes by Police Department District**"
   ]
  },
  {
   "cell_type": "code",
   "execution_count": 33,
   "metadata": {
    "colab": {
     "base_uri": "https://localhost:8080/",
     "height": 458
    },
    "id": "QjYbGW53dLPZ",
    "outputId": "e3b7211a-587c-4128-b8fb-890e13e0cbc9"
   },
   "outputs": [
    {
     "data": {
      "image/png": "[encoded data removed]",
      "text/plain": [
       "<Figure size 864x432 with 1 Axes>"
      ]
     },
     "metadata": {},
     "output_type": "display_data"
    }
   ],
   "source": [
    "plt.figure(figsize=(12,6))\n",
    "sns.countplot(x=\"PdDistrict\", data=crimes_original, order=crimes_original[\"PdDistrict\"].value_counts().index)\n",
    "plt.xlabel(\"Police Department District\")\n",
    "plt.ylabel(\"Crimes\")\n",
    "plt.title(\"Crimes by Police Department District\")\n",
    "plt.xticks(rotation=90)\n",
    "plt.show()"
   ]
  },
  {
   "cell_type": "markdown",
   "metadata": {
    "id": "CgvPEJDldUGc"
   },
   "source": [
    "## **Crimes by Resolutions**"
   ]
  },
  {
   "cell_type": "code",
   "execution_count": 34,
   "metadata": {
    "colab": {
     "base_uri": "https://localhost:8080/",
     "height": 623
    },
    "id": "zrnTjE_mdXIg",
    "outputId": "3dc798ca-1d42-4202-cb19-3e03dbcda16f"
   },
   "outputs": [
    {
     "data": {
      "image/png": "[encoded data removed]",
      "text/plain": [
       "<Figure size 864x432 with 1 Axes>"
      ]
     },
     "metadata": {},
     "output_type": "display_data"
    }
   ],
   "source": [
    "plt.figure(figsize=(12,6))\n",
    "sns.countplot(x=\"Resolution\", data=crimes_original, order=crimes_original[\"Resolution\"].value_counts().index)\n",
    "plt.title(\"Crimes Resolutions\")\n",
    "plt.xticks(rotation=90)\n",
    "plt.show()"
   ]
  },
  {
   "cell_type": "markdown",
   "metadata": {
    "id": "XrkihJ5opBxc"
   },
   "source": [
    "## **Correlation Matrix**"
   ]
  },
  {
   "cell_type": "code",
   "execution_count": 35,
   "metadata": {
    "colab": {
     "base_uri": "https://localhost:8080/",
     "height": 608
    },
    "id": "MY29bKbLpKlu",
    "outputId": "ec61057a-ac92-4f03-860f-669691a93b65"
   },
   "outputs": [
    {
     "data": {
      "image/png": "[encoded data removed]",
      "text/plain": [
       "<Figure size 864x720 with 2 Axes>"
      ]
     },
     "metadata": {},
     "output_type": "display_data"
    }
   ],
   "source": [
    "plt.figure(figsize=(12,10))\n",
    "crimes_weather = data.resample(\"D\").agg({\"avg_temp\":\"mean\", \"precipitation\":\"mean\", \"wind_speed\":\"mean\", \"visibility\":\"mean\", \"PdDistrict\":\"count\"}).dropna()\n",
    "crimes_weather.rename(columns={\"PdDistrict\":\"Daily Crimes\"}, inplace=True)\n",
    "sns.heatmap(crimes_weather.corr(), annot=True, vmin=-1, vmax=1, )\n",
    "plt.title(\"Correlation Matrix\")\n",
    "plt.show()"
   ]
  }
 ],
 "metadata": {
  "colab": {
   "collapsed_sections": [
    "nv2dkVbwIGF7",
    "KeML0V-YS1fW",
    "6UcVvQjKaIZ4",
    "px98DWyoVXFJ"
   ],
   "name": "EDA.ipynb",
   "provenance": []
  },
  "kernelspec": {
   "display_name": "Python 3",
   "language": "python",
   "name": "python3"
  },
  "language_info": {
   "codemirror_mode": {
    "name": "ipython",
    "version": 3
   },
   "file_extension": ".py",
   "mimetype": "text/x-python",
   "name": "python",
   "nbconvert_exporter": "python",
   "pygments_lexer": "ipython3",
   "version": "3.8.3"
  }
 },
 "nbformat": 4,
 "nbformat_minor": 1
}
